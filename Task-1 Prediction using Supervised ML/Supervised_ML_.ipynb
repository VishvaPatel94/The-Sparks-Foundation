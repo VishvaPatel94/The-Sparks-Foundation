{
  "nbformat": 4,
  "nbformat_minor": 0,
  "metadata": {
    "kernelspec": {
      "display_name": "Python 3",
      "language": "python",
      "name": "python3"
    },
    "language_info": {
      "codemirror_mode": {
        "name": "ipython",
        "version": 3
      },
      "file_extension": ".py",
      "mimetype": "text/x-python",
      "name": "python",
      "nbconvert_exporter": "python",
      "pygments_lexer": "ipython3",
      "version": "3.7.6"
    },
    "colab": {
      "name": "Supervised ML .ipynb",
      "provenance": [],
      "collapsed_sections": []
    }
  },
  "cells": [
    {
      "cell_type": "markdown",
      "metadata": {
        "id": "uyoAVLoMfuBy"
      },
      "source": [
        "## Data Science and Business Analytics - GRIPMAR2021\n",
        "## Submitted by: Vishva Bhalodia"
      ]
    },
    {
      "cell_type": "markdown",
      "metadata": {
        "id": "6lXR07gIfuB8"
      },
      "source": [
        "## Task 1 : Prediction using Supervised Machine Learning"
      ]
    },
    {
      "cell_type": "markdown",
      "metadata": {
        "id": "Ku4xdGQ-fuB9"
      },
      "source": [
        "## GRIP @ The Sparks Foundation"
      ]
    },
    {
      "cell_type": "markdown",
      "metadata": {
        "id": "tPVTeVFLfuB9"
      },
      "source": [
        "In this regression task I have tried to Predict the percentage of marks that a student is expected to score based upon the number of hours they studied hours."
      ]
    },
    {
      "cell_type": "markdown",
      "metadata": {
        "id": "MytlGYxufuB-"
      },
      "source": [
        "This is a simple linear regression task as it involves just two variables."
      ]
    },
    {
      "cell_type": "markdown",
      "metadata": {
        "id": "7UdjRl--fuB-"
      },
      "source": [
        "## Technical Stack : Sikit Learn, Numpy Array, Pandas, Matplotlib"
      ]
    },
    {
      "cell_type": "code",
      "metadata": {
        "id": "E57O-DKUfuB_"
      },
      "source": [
        "#Importing the required libraries\n",
        "import matplotlib.pyplot as plt\n",
        "import pandas as pd\n",
        "import numpy as np\n",
        "from sklearn.model_selection import train_test_split \n",
        "from sklearn.linear_model import LinearRegression"
      ],
      "execution_count": 27,
      "outputs": []
    },
    {
      "cell_type": "markdown",
      "metadata": {
        "id": "szZ8LnE2fuB_"
      },
      "source": [
        "## Step 1 - Reading the data from source"
      ]
    },
    {
      "cell_type": "code",
      "metadata": {
        "id": "bOoT6UHdfuCA",
        "colab": {
          "base_uri": "https://localhost:8080/",
          "height": 508
        },
        "outputId": "2b112613-a951-4dde-9aee-44c10a6e8e28"
      },
      "source": [
        "# Reading data from remote link\n",
        "url = \"http://bit.ly/w-data\"\n",
        "s_data = pd.read_csv(url)\n",
        "print(\"Data imported successfully\")\n",
        "#first 15 row from csv file data.\n",
        "s_data.head(15)"
      ],
      "execution_count": 28,
      "outputs": [
        {
          "output_type": "stream",
          "text": [
            "Data imported successfully\n"
          ],
          "name": "stdout"
        },
        {
          "output_type": "execute_result",
          "data": {
            "text/html": [
              "<div>\n",
              "<style scoped>\n",
              "    .dataframe tbody tr th:only-of-type {\n",
              "        vertical-align: middle;\n",
              "    }\n",
              "\n",
              "    .dataframe tbody tr th {\n",
              "        vertical-align: top;\n",
              "    }\n",
              "\n",
              "    .dataframe thead th {\n",
              "        text-align: right;\n",
              "    }\n",
              "</style>\n",
              "<table border=\"1\" class=\"dataframe\">\n",
              "  <thead>\n",
              "    <tr style=\"text-align: right;\">\n",
              "      <th></th>\n",
              "      <th>Hours</th>\n",
              "      <th>Scores</th>\n",
              "    </tr>\n",
              "  </thead>\n",
              "  <tbody>\n",
              "    <tr>\n",
              "      <th>0</th>\n",
              "      <td>2.5</td>\n",
              "      <td>21</td>\n",
              "    </tr>\n",
              "    <tr>\n",
              "      <th>1</th>\n",
              "      <td>5.1</td>\n",
              "      <td>47</td>\n",
              "    </tr>\n",
              "    <tr>\n",
              "      <th>2</th>\n",
              "      <td>3.2</td>\n",
              "      <td>27</td>\n",
              "    </tr>\n",
              "    <tr>\n",
              "      <th>3</th>\n",
              "      <td>8.5</td>\n",
              "      <td>75</td>\n",
              "    </tr>\n",
              "    <tr>\n",
              "      <th>4</th>\n",
              "      <td>3.5</td>\n",
              "      <td>30</td>\n",
              "    </tr>\n",
              "    <tr>\n",
              "      <th>5</th>\n",
              "      <td>1.5</td>\n",
              "      <td>20</td>\n",
              "    </tr>\n",
              "    <tr>\n",
              "      <th>6</th>\n",
              "      <td>9.2</td>\n",
              "      <td>88</td>\n",
              "    </tr>\n",
              "    <tr>\n",
              "      <th>7</th>\n",
              "      <td>5.5</td>\n",
              "      <td>60</td>\n",
              "    </tr>\n",
              "    <tr>\n",
              "      <th>8</th>\n",
              "      <td>8.3</td>\n",
              "      <td>81</td>\n",
              "    </tr>\n",
              "    <tr>\n",
              "      <th>9</th>\n",
              "      <td>2.7</td>\n",
              "      <td>25</td>\n",
              "    </tr>\n",
              "    <tr>\n",
              "      <th>10</th>\n",
              "      <td>7.7</td>\n",
              "      <td>85</td>\n",
              "    </tr>\n",
              "    <tr>\n",
              "      <th>11</th>\n",
              "      <td>5.9</td>\n",
              "      <td>62</td>\n",
              "    </tr>\n",
              "    <tr>\n",
              "      <th>12</th>\n",
              "      <td>4.5</td>\n",
              "      <td>41</td>\n",
              "    </tr>\n",
              "    <tr>\n",
              "      <th>13</th>\n",
              "      <td>3.3</td>\n",
              "      <td>42</td>\n",
              "    </tr>\n",
              "    <tr>\n",
              "      <th>14</th>\n",
              "      <td>1.1</td>\n",
              "      <td>17</td>\n",
              "    </tr>\n",
              "  </tbody>\n",
              "</table>\n",
              "</div>"
            ],
            "text/plain": [
              "    Hours  Scores\n",
              "0     2.5      21\n",
              "1     5.1      47\n",
              "2     3.2      27\n",
              "3     8.5      75\n",
              "4     3.5      30\n",
              "5     1.5      20\n",
              "6     9.2      88\n",
              "7     5.5      60\n",
              "8     8.3      81\n",
              "9     2.7      25\n",
              "10    7.7      85\n",
              "11    5.9      62\n",
              "12    4.5      41\n",
              "13    3.3      42\n",
              "14    1.1      17"
            ]
          },
          "metadata": {
            "tags": []
          },
          "execution_count": 28
        }
      ]
    },
    {
      "cell_type": "markdown",
      "metadata": {
        "id": "fjKHH7GgfuCC"
      },
      "source": [
        "## Step 2 - Input data Visualization"
      ]
    },
    {
      "cell_type": "code",
      "metadata": {
        "id": "oZqmNhy7fuCC",
        "colab": {
          "base_uri": "https://localhost:8080/",
          "height": 295
        },
        "outputId": "3b796857-c8a5-42f7-e896-25dfc8e24c4c"
      },
      "source": [
        "# Plotting the distribution of scores\n",
        "s_data.plot(x='Hours', y='Scores', style='o')  \n",
        "plt.title('Hours vs Percentage')  \n",
        "plt.xlabel('Hours Studied')  \n",
        "plt.ylabel('Percentage Score')  \n",
        "plt.show()"
      ],
      "execution_count": 29,
      "outputs": [
        {
          "output_type": "display_data",
          "data": {
            "image/png": "[encoded data removed]",
            "text/plain": [
              "<Figure size 432x288 with 1 Axes>"
            ]
          },
          "metadata": {
            "tags": [],
            "needs_background": "light"
          }
        }
      ]
    },
    {
      "cell_type": "markdown",
      "metadata": {
        "id": "NWk70yLufuCD"
      },
      "source": [
        "From the graph we can assume a positive linear relation between the number of hours studied and percentage of score."
      ]
    },
    {
      "cell_type": "markdown",
      "metadata": {
        "id": "62heKiFBfuCD"
      },
      "source": [
        "## Step 3 - Data Preprocessing"
      ]
    },
    {
      "cell_type": "markdown",
      "metadata": {
        "id": "zz4cKq6hfuCD"
      },
      "source": [
        "This step involved division of data into \"attributes\" (inputs) and \"labels\" (outputs)."
      ]
    },
    {
      "cell_type": "code",
      "metadata": {
        "id": "TjeM7Gm6fuCE"
      },
      "source": [
        "X = s_data.iloc[:, :-1].values  \n",
        "y = s_data.iloc[:, 1].values"
      ],
      "execution_count": 30,
      "outputs": []
    },
    {
      "cell_type": "markdown",
      "metadata": {
        "id": "o6PC9p-ofuCE"
      },
      "source": [
        "## Step 4 - Model Training"
      ]
    },
    {
      "cell_type": "markdown",
      "metadata": {
        "id": "YD-5xO7jfuCF"
      },
      "source": [
        "Splitting the data into training and testing sets, and training the algorithm."
      ]
    },
    {
      "cell_type": "code",
      "metadata": {
        "id": "Lcr-1iPJfuCF",
        "colab": {
          "base_uri": "https://localhost:8080/"
        },
        "outputId": "ce0020a9-52ed-4809-aede-03e7a3e40d84"
      },
      "source": [
        "X_train, X_test, y_train, y_test = train_test_split(X, y, test_size=0.2, random_state=0) \n",
        "regressor = LinearRegression()  \n",
        "regressor.fit(X_train.reshape(-1,1), y_train) \n",
        "\n",
        "print(\"Training complete.\")"
      ],
      "execution_count": 31,
      "outputs": [
        {
          "output_type": "stream",
          "text": [
            "Training complete.\n"
          ],
          "name": "stdout"
        }
      ]
    },
    {
      "cell_type": "markdown",
      "metadata": {
        "id": "6a2pvB-MfuCF"
      },
      "source": [
        "## Step 5 - Plotting the Line of regression"
      ]
    },
    {
      "cell_type": "markdown",
      "metadata": {
        "id": "CnJpJXzsfuCG"
      },
      "source": [
        "Now since our model is trained, its time to visualize the best-fit line of regression."
      ]
    },
    {
      "cell_type": "code",
      "metadata": {
        "colab": {
          "base_uri": "https://localhost:8080/",
          "height": 265
        },
        "id": "oFRBEnX4fuCG",
        "outputId": "38081298-c79e-46a3-fe34-b958caf486a5"
      },
      "source": [
        "#plotting the regression line\n",
        "line = regressor.coef_*X+regressor.intercept_\n",
        "\n",
        "# Plotting for the test data\n",
        "plt.scatter(X, y)\n",
        "plt.plot(X, line,color='yellow');\n",
        "plt.show()"
      ],
      "execution_count": 32,
      "outputs": [
        {
          "output_type": "display_data",
          "data": {
            "image/png": "[encoded data removed]",
            "text/plain": [
              "<Figure size 432x288 with 1 Axes>"
            ]
          },
          "metadata": {
            "tags": [],
            "needs_background": "light"
          }
        }
      ]
    },
    {
      "cell_type": "markdown",
      "metadata": {
        "id": "SI0piwPRfuCH"
      },
      "source": [
        "## Step 6 - Making predictions"
      ]
    },
    {
      "cell_type": "markdown",
      "metadata": {
        "id": "lMTW0Iy-fuCH"
      },
      "source": [
        "Now that we have trained our algorithm, it's time to test the model by doing some predictions.\n",
        "\n",
        "For this we will use our test-set data"
      ]
    },
    {
      "cell_type": "code",
      "metadata": {
        "id": "6-4Z3pk7fuCH",
        "colab": {
          "base_uri": "https://localhost:8080/"
        },
        "outputId": "2b894d3e-4176-4fe1-ee0f-245c0d1575da"
      },
      "source": [
        "# Testing data\n",
        "print(X_test)\n",
        "# Model Prediction \n",
        "y_pred = regressor.predict(X_test)"
      ],
      "execution_count": 33,
      "outputs": [
        {
          "output_type": "stream",
          "text": [
            "[[1.5]\n",
            " [3.2]\n",
            " [7.4]\n",
            " [2.5]\n",
            " [5.9]]\n"
          ],
          "name": "stdout"
        }
      ]
    },
    {
      "cell_type": "markdown",
      "metadata": {
        "id": "956BQucZfuCI"
      },
      "source": [
        "## Step 7 - Comparing Actual result to the Predicted Model result"
      ]
    },
    {
      "cell_type": "code",
      "metadata": {
        "id": "9y1_ePT2fuCI",
        "colab": {
          "base_uri": "https://localhost:8080/",
          "height": 195
        },
        "outputId": "bd1e529c-11f2-45ad-da19-956617b96d60"
      },
      "source": [
        "# Comparing Actual vs Predicted\n",
        "df = pd.DataFrame({'Actual': y_test, 'Predicted': y_pred}) \n",
        "df.head()"
      ],
      "execution_count": 34,
      "outputs": [
        {
          "output_type": "execute_result",
          "data": {
            "text/html": [
              "<div>\n",
              "<style scoped>\n",
              "    .dataframe tbody tr th:only-of-type {\n",
              "        vertical-align: middle;\n",
              "    }\n",
              "\n",
              "    .dataframe tbody tr th {\n",
              "        vertical-align: top;\n",
              "    }\n",
              "\n",
              "    .dataframe thead th {\n",
              "        text-align: right;\n",
              "    }\n",
              "</style>\n",
              "<table border=\"1\" class=\"dataframe\">\n",
              "  <thead>\n",
              "    <tr style=\"text-align: right;\">\n",
              "      <th></th>\n",
              "      <th>Actual</th>\n",
              "      <th>Predicted</th>\n",
              "    </tr>\n",
              "  </thead>\n",
              "  <tbody>\n",
              "    <tr>\n",
              "      <th>0</th>\n",
              "      <td>20</td>\n",
              "      <td>16.884145</td>\n",
              "    </tr>\n",
              "    <tr>\n",
              "      <th>1</th>\n",
              "      <td>27</td>\n",
              "      <td>33.732261</td>\n",
              "    </tr>\n",
              "    <tr>\n",
              "      <th>2</th>\n",
              "      <td>69</td>\n",
              "      <td>75.357018</td>\n",
              "    </tr>\n",
              "    <tr>\n",
              "      <th>3</th>\n",
              "      <td>30</td>\n",
              "      <td>26.794801</td>\n",
              "    </tr>\n",
              "    <tr>\n",
              "      <th>4</th>\n",
              "      <td>62</td>\n",
              "      <td>60.491033</td>\n",
              "    </tr>\n",
              "  </tbody>\n",
              "</table>\n",
              "</div>"
            ],
            "text/plain": [
              "   Actual  Predicted\n",
              "0      20  16.884145\n",
              "1      27  33.732261\n",
              "2      69  75.357018\n",
              "3      30  26.794801\n",
              "4      62  60.491033"
            ]
          },
          "metadata": {
            "tags": []
          },
          "execution_count": 34
        }
      ]
    },
    {
      "cell_type": "code",
      "metadata": {
        "id": "R9CxMNIDfuCJ",
        "colab": {
          "base_uri": "https://localhost:8080/"
        },
        "outputId": "b93e042d-b034-4c35-c538-01fd3b1675b7"
      },
      "source": [
        "#Estimating training and test score\n",
        "print(\"Training Score:\",regressor.score(X_train,y_train))\n",
        "print(\"Test Score:\",regressor.score(X_test,y_test))"
      ],
      "execution_count": 35,
      "outputs": [
        {
          "output_type": "stream",
          "text": [
            "Training Score: 0.9515510725211553\n",
            "Test Score: 0.9454906892105354\n"
          ],
          "name": "stdout"
        }
      ]
    },
    {
      "cell_type": "code",
      "metadata": {
        "id": "d5oijWfifuCJ",
        "colab": {
          "base_uri": "https://localhost:8080/",
          "height": 316
        },
        "outputId": "941ae904-714c-4b6d-8218-70f60fe9b80f"
      },
      "source": [
        "# Plotting the Bar graph to depict the difference between the actual and predicted value\n",
        "\n",
        "df.plot(kind='bar',figsize=(5,5))\n",
        "plt.grid(which='major', linewidth='0.5', color='yellow')\n",
        "plt.grid(which='minor', linewidth='0.5', color='red')\n",
        "plt.show()"
      ],
      "execution_count": 37,
      "outputs": [
        {
          "output_type": "display_data",
          "data": {
            "image/png": "[encoded data removed]",
            "text/plain": [
              "<Figure size 360x360 with 1 Axes>"
            ]
          },
          "metadata": {
            "tags": [],
            "needs_background": "light"
          }
        }
      ]
    },
    {
      "cell_type": "code",
      "metadata": {
        "id": "m_BPz48HfuCK",
        "colab": {
          "base_uri": "https://localhost:8080/"
        },
        "outputId": "32d93cca-b65c-4199-bf48-03567bb6835d"
      },
      "source": [
        "# Testing the model with our own data\n",
        "hours = 9.25\n",
        "test = np.array([hours])\n",
        "test = test.reshape(-1, 1)\n",
        "own_pred = regressor.predict(test)\n",
        "print(\"No of Hours = {}\".format(hours))\n",
        "print(\"Predicted Score = {}\".format(own_pred[0]))"
      ],
      "execution_count": 39,
      "outputs": [
        {
          "output_type": "stream",
          "text": [
            "No of Hours = 9.25\n",
            "Predicted Score = 93.69173248737539\n"
          ],
          "name": "stdout"
        }
      ]
    },
    {
      "cell_type": "markdown",
      "metadata": {
        "id": "TakC18IyfuCK"
      },
      "source": [
        "## Step 8 - Evaluating the model\n",
        "The final step is to evaluate the performance of algorithm. This step is particularly important to compare that how well different algorithms can perform on a particular dataset. Here different errors have been calculated to compare the model performance and predict the accuracy."
      ]
    },
    {
      "cell_type": "code",
      "metadata": {
        "id": "LRlwTBlzfuCK",
        "colab": {
          "base_uri": "https://localhost:8080/"
        },
        "outputId": "2d982ca8-2a45-432a-b5bd-397ab65b6023"
      },
      "source": [
        "from sklearn import metrics  \n",
        "print('Mean Absolute Error:',metrics.mean_absolute_error(y_test, y_pred)) \n",
        "print('Mean Squared Error:', metrics.mean_squared_error(y_test, y_pred))\n",
        "print('Root Mean Squared Error:', np.sqrt(metrics.mean_squared_error(y_test, y_pred)))\n",
        "print('R-2:', metrics.r2_score(y_test, y_pred))"
      ],
      "execution_count": 42,
      "outputs": [
        {
          "output_type": "stream",
          "text": [
            "Mean Absolute Error: 4.183859899002982\n",
            "Mean Squared Error: 21.598769307217456\n",
            "Root Mean Squared Error: 4.647447612100373\n",
            "R-2: 0.9454906892105354\n"
          ],
          "name": "stdout"
        }
      ]
    },
    {
      "cell_type": "markdown",
      "metadata": {
        "id": "vcksbMMQfuCL"
      },
      "source": [
        "R-2 gives the score of model fit and in this case we have R-2 = 0.9454906892105355 which is actually a great score for this model."
      ]
    },
    {
      "cell_type": "markdown",
      "metadata": {
        "id": "kfvqjYk3fuCL"
      },
      "source": [
        "## Conclusion\n",
        "### From the above result we can say that if a student studied for 9.25 hours then he will secured 93.69 MARKS.\n",
        "### Thank You\n"
      ]
    }
  ]
}